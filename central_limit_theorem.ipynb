{
 "cells": [
  {
   "cell_type": "markdown",
   "id": "99819a33",
   "metadata": {},
   "source": [
    "# Central Limit Theorem Demonstration"
   ]
  },
  {
   "cell_type": "code",
   "execution_count": null,
   "id": "86887110",
   "metadata": {},
   "outputs": [],
   "source": [
    "%matplotlib inline\n",
    "import matplotlib.pyplot as plt\n",
    "import numpy as np"
   ]
  },
  {
   "cell_type": "markdown",
   "id": "f860d1c9",
   "metadata": {},
   "source": [
    "### Set up a series of random uniform distributions.\n",
    "The central limit theorem states that for random processes, if we measure the mean of independendent random variates the distribution of the means of those distributions will be Gaussianly distributed. This result is independependent of the character of the random distribution. We can show this by using a collection of uniform random variates, and measuring the means many times."
   ]
  },
  {
   "cell_type": "code",
   "execution_count": null,
   "id": "4895a817",
   "metadata": {},
   "outputs": [],
   "source": [
    "n_exp = 10000 #number of experiments\n",
    "n_draw = 10 #number of random variates per experiment\n",
    "n_bins = 100 #number of bins in histogram of the uniform variate means\n",
    "x_min = 0.15 #minimum of histogram range\n",
    "x_max = 0.85 #maximum of histogram range\n",
    "\n",
    "means = np.zeros(n_exp) #means from each experiment"
   ]
  },
  {
   "cell_type": "markdown",
   "id": "c604177a",
   "metadata": {},
   "source": [
    "### Let's perform the experiment."
   ]
  },
  {
   "cell_type": "code",
   "execution_count": null,
   "id": "54998a89",
   "metadata": {},
   "outputs": [],
   "source": [
    "#loop over the number of experiments\n",
    "for i in range(n_exp):\n",
    "    \n",
    "    #pull 10 random variates from a uniform distribution\n",
    "    z = np.random.uniform(0.,1.,n_draw)\n",
    "    \n",
    "    #record the mean\n",
    "    means[i] = np.mean(z)"
   ]
  },
  {
   "cell_type": "markdown",
   "id": "520f78f7",
   "metadata": {},
   "source": [
    "### Define a function to plot a Gaussian."
   ]
  },
  {
   "cell_type": "code",
   "execution_count": null,
   "id": "a14d5af7",
   "metadata": {},
   "outputs": [],
   "source": [
    "def gaussian(x,mu,sigma):\n",
    "    return 1./(2.0*np.pi*sigma**2)**0.5 * np.exp(-0.5*((x-mu)/sigma)**2)"
   ]
  },
  {
   "cell_type": "markdown",
   "id": "af5ab38b",
   "metadata": {},
   "source": [
    "### Now let's histogram the means and plot them."
   ]
  },
  {
   "cell_type": "code",
   "execution_count": null,
   "id": "fe8f062b",
   "metadata": {},
   "outputs": [],
   "source": [
    "fig = plt.figure(figsize=(7,7))\n",
    "y_hist, x_hist, ignored = plt.hist(means, bins=n_bins, range=[x_min,x_max], density=True)\n",
    "xx = np.linspace(x_min,x_max,1000)\n",
    "\n",
    "#set the RMS of the gaussian\n",
    "sigma = 1./12.**0.5 / 10.**0.5\n",
    "\n",
    "plt.plot(xx,gaussian(xx,0.5,sigma),color=\"red\")\n",
    "plt.ylim([0,1.1*gaussian(0.5,0.5,sigma)])\n",
    "plt.xlim([x_min,x_max])\n",
    "#plt.gca().set_aspect(20)\n",
    "plt.xlabel('x')\n",
    "plt.ylabel('y(x)')\n",
    "plt.show()"
   ]
  },
  {
   "cell_type": "code",
   "execution_count": null,
   "id": "5c88221a",
   "metadata": {},
   "outputs": [],
   "source": []
  }
 ],
 "metadata": {
  "kernelspec": {
   "display_name": "Python 3 (ipykernel)",
   "language": "python",
   "name": "python3"
  },
  "language_info": {
   "codemirror_mode": {
    "name": "ipython",
    "version": 3
   },
   "file_extension": ".py",
   "mimetype": "text/x-python",
   "name": "python",
   "nbconvert_exporter": "python",
   "pygments_lexer": "ipython3",
   "version": "3.9.7"
  }
 },
 "nbformat": 4,
 "nbformat_minor": 5
}
